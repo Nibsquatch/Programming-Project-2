{
 "cells": [
  {
   "cell_type": "markdown",
   "id": "b8e38659",
   "metadata": {},
   "source": [
    "# Define a Function to Create A Connected Graph with Different Levels of Connectivity"
   ]
  },
  {
   "cell_type": "code",
   "execution_count": null,
   "id": "79960a99",
   "metadata": {
    "ExecuteTime": {
     "end_time": "2025-05-07T00:43:49.357519Z",
     "start_time": "2025-05-07T00:43:49.345143Z"
    }
   },
   "outputs": [],
   "source": [
    "import random\n",
    "\n",
    "def generate_connected_graph(n, extra_edges, max_weight):\n",
    "    \"\"\"\n",
    "    Generate a connected undirected graph with n nodes.\n",
    "\n",
    "    Parameters:\n",
    "        n           : number of vertices (int)\n",
    "        extra_edges : number of additional random edges (int)\n",
    "        max_weight  : maximum weight for any edge (int)\n",
    "\n",
    "    Returns:\n",
    "        List of edges in (weight, u, v) format\n",
    "    \"\"\"\n",
    "    edges = []\n",
    "    connected = set([0])\n",
    "\n",
    "    # Ensure connectivity by building a spanning tree\n",
    "    for i in range(1, n):\n",
    "        u = i\n",
    "        v = random.choice(list(connected))\n",
    "        weight = random.randint(1, max_weight)\n",
    "        edge = (weight, min(u, v), max(u, v))\n",
    "        edges.append(edge)\n",
    "        connected.add(u)\n",
    "\n",
    "    # Track existing edges for duplicate checking\n",
    "    existing_edges = set((min(u, v), max(u, v)) for _, u, v in edges)\n",
    "\n",
    "    # Precompute all possible edges\n",
    "    all_possible_edges = {(min(u, v), max(u, v)) for u in range(n) for v in range(u + 1, n)}\n",
    "\n",
    "    # Remove already existing edges\n",
    "    remaining_edges = list(all_possible_edges - existing_edges)\n",
    "\n",
    "    # If we request more extra edges than possible limit it\n",
    "    extra_edges = min(extra_edges, len(remaining_edges))\n",
    "\n",
    "    # Sample from the remaining edges\n",
    "    sampled_edges = random.sample(remaining_edges, extra_edges)\n",
    "\n",
    "    # Add the sampled edges with random weights\n",
    "    for u, v in sampled_edges:\n",
    "        weight = random.randint(1, max_weight)\n",
    "        edges.append((weight, u, v))\n",
    "\n",
    "    return edges\n"
   ]
  },
  {
   "cell_type": "markdown",
   "id": "b3591093",
   "metadata": {},
   "source": [
    "# Kruskal's Algorithm Implementation"
   ]
  },
  {
   "cell_type": "code",
   "execution_count": 2,
   "id": "39ba1f0fe6101094",
   "metadata": {
    "ExecuteTime": {
     "end_time": "2025-05-07T00:43:53.138358Z",
     "start_time": "2025-05-07T00:43:53.078293Z"
    }
   },
   "outputs": [],
   "source": [
    "from Sorting import BucketSort, QuickSort\n",
    "\n",
    "def KruskalsAlgorithm(edges, n, m,  compress = True, Bucket = True):\n",
    "    \"\"\"\n",
    "    Implements Kruskal's algorithm to find the Minimum Spanning Tree.\n",
    "    \n",
    "    Parameters:\n",
    "        edges: List of edges in {(u, v): weight} format\n",
    "        n: Number of vertices in the graph\n",
    "    \n",
    "    Returns:\n",
    "        mst_edges: List of edges in the Minimum Spanning Tree\n",
    "    \"\"\"\n",
    "    parent = list(range(n))\n",
    "    rank = [0] * n\n",
    "    \n",
    "    # Find set of vertex with compression if specified\n",
    "    def find(x):\n",
    "        if compress:\n",
    "            if parent[x] != x:\n",
    "                parent[x] = find(parent[x])\n",
    "            return parent[x]\n",
    "        else:\n",
    "            if parent[x] != x:\n",
    "                return find(parent[x])\n",
    "            return x\n",
    "\n",
    "    \n",
    "    # Union sets by rank\n",
    "    def union(x, y):\n",
    "        root_x = find(x)\n",
    "        root_y = find(y)\n",
    "        \n",
    "        if root_x == root_y:\n",
    "            return\n",
    "        \n",
    "        if rank[root_x] < rank[root_y]:\n",
    "            parent[root_x] = root_y\n",
    "        else:\n",
    "            parent[root_y] = root_x\n",
    "            if rank[root_x] == rank[root_y]:\n",
    "                rank[root_x] += 1\n",
    "    \n",
    "    mst_edges = []\n",
    "    mst_weight = 0\n",
    "\n",
    "    # Perform either BucketSort or QuickSort as specified\n",
    "    if Bucket:\n",
    "        BucketSort(edges, m)\n",
    "    else:\n",
    "        QuickSort(edges, 0, n - 1)\n",
    "    \n",
    "    for weight, u, v in edges:\n",
    "        if find(u) != find(v):  # If including this edge doesn't form a cycle\n",
    "            union(u, v)  # Include it in the MST\n",
    "            mst_edges.append({(u, v): weight})\n",
    "            mst_weight += weight\n",
    "            \n",
    "            # MST will have n-1 edges\n",
    "            if len(mst_edges) == n - 1:\n",
    "                break\n",
    "    \n",
    "    return mst_edges, mst_weight"
   ]
  },
  {
   "cell_type": "markdown",
   "id": "19b172ab",
   "metadata": {},
   "source": [
    "# Experimentation"
   ]
  },
  {
   "cell_type": "markdown",
   "id": "0a8ee8d7",
   "metadata": {},
   "source": [
    "First, let's test the basic functionality of our algorithm on a graph with $n = 5$ and a $m$ that is $\\Theta(n)$ as a proof of concept."
   ]
  },
  {
   "cell_type": "code",
   "execution_count": 43,
   "id": "83ef35ab",
   "metadata": {},
   "outputs": [
    {
     "name": "stdout",
     "output_type": "stream",
     "text": [
      "Pre-Sorted Edges of Graph: [(643, 0, 1), (481, 1, 2), (935, 0, 3), (231, 1, 4), (347, 4, 2), (561, 0, 4), (910, 3, 4), (198, 3, 1), (552, 2, 3)]\n",
      "Sorted Edges of Graph: [(198, 3, 1), (231, 1, 4), (347, 4, 2), (481, 1, 2), (552, 2, 3), (561, 0, 4), (643, 0, 1), (910, 3, 4), (935, 0, 3)]\n"
     ]
    }
   ],
   "source": [
    "# Define graph parameters\n",
    "n = 5\n",
    "max_weight = 999\n",
    "\n",
    "# Generate connected graph\n",
    "A = generate_connected_graph(n, n, 999)\n",
    "print(f\"Pre-Sorted Edges of Graph: {A}\")\n",
    "\n",
    "# Visualize sorting A using our BuckeSort Algorithm\n",
    "BucketSort(A, max_weight)\n",
    "print(f\"Sorted Edges of Graph: {A}\")\n"
   ]
  },
  {
   "cell_type": "markdown",
   "id": "648995e0",
   "metadata": {},
   "source": [
    "Between these two steps it is clear that our BucketSort is functioning properly, and has sorted the edges in increasing order of edge weight. Let's continue on to the Kruskal's implementation."
   ]
  },
  {
   "cell_type": "code",
   "execution_count": null,
   "id": "3f778f19",
   "metadata": {},
   "outputs": [
    {
     "name": "stdout",
     "output_type": "stream",
     "text": [
      "MST contains 4 edges with total weight: 1337\n",
      "Edge 1: {(3, 1): 198}\n",
      "Edge 2: {(1, 4): 231}\n",
      "Edge 3: {(4, 2): 347}\n",
      "Edge 4: {(0, 4): 561}\n"
     ]
    }
   ],
   "source": [
    "# Run Kruskal's Algorithm\n",
    "MST, MST_weight = KruskalsAlgorithm(A, n, max_weight)\n",
    "\n",
    "# View the Results\n",
    "print(f\"MST contains {len(MST)} edges with total weight: {MST_weight}\")\n",
    "for i in range(len(MST)):\n",
    "    print(f\"Edge {i+1}: {MST[i]}\")"
   ]
  },
  {
   "cell_type": "markdown",
   "id": "09260bbf",
   "metadata": {},
   "source": [
    "From this simplified implementation, we can see that each vertex has been reached and that minimum number of edges required to reach each vertex ($n - 1$) has ben maintained. Thus it seems as if our algorithm is working properly. Time to move on to explore how path compression can improve runtime. Let's first test how the algorithm performs on a dense graph with $n = 100$ where $m$ is $\\Theta(n^2)$. "
   ]
  },
  {
   "cell_type": "code",
   "execution_count": 80,
   "id": "b65841ac",
   "metadata": {},
   "outputs": [],
   "source": [
    "# Define graph parameters\n",
    "n = 1000\n",
    "max_weight = 999\n",
    "\n",
    "# Generate connected graph\n",
    "A = generate_connected_graph(n, 1000, max_weight)"
   ]
  },
  {
   "cell_type": "markdown",
   "id": "33174c3a",
   "metadata": {},
   "source": [
    "Now that we have a large graph to work with, let's do runtime analysis by performing Kruskal's Algorithm multiple times across our graph and averaging the runtime between iterations."
   ]
  },
  {
   "cell_type": "code",
   "execution_count": 81,
   "id": "db3c4e24",
   "metadata": {},
   "outputs": [
    {
     "name": "stdout",
     "output_type": "stream",
     "text": [
      "Kruskal's algorithm without path compression took on average 0.00501561164855957 seconds to run.\n"
     ]
    }
   ],
   "source": [
    "import time\n",
    "import numpy as np\n",
    "\n",
    "# iterables\n",
    "n_test = 5\n",
    "runs = []\n",
    "\n",
    "for _ in range(n_test):\n",
    "\n",
    "    # Keep track of starting time\n",
    "    start = time.time()\n",
    "\n",
    "    # Run Kruskal's Algorithm with optional argument compress set to False\n",
    "    MST, MST_weight = KruskalsAlgorithm(A, n, max_weight, compress = False)\n",
    "\n",
    "    # Record the finish time and calculate the total runtime\n",
    "    runs.append(time.time() - start)\n",
    "\n",
    "print(f\"Kruskal's algorithm without path compression took on average {np.mean(runs)} seconds to run.\")"
   ]
  },
  {
   "cell_type": "markdown",
   "id": "f79517fd",
   "metadata": {},
   "source": [
    "Let's now run the same code for a Kruskal's implementation which performs path compression."
   ]
  },
  {
   "cell_type": "code",
   "execution_count": 82,
   "id": "597740ff",
   "metadata": {},
   "outputs": [
    {
     "name": "stdout",
     "output_type": "stream",
     "text": [
      "Kruskal's algorithm with path compression took on average 0.012955236434936523 seconds to run.\n"
     ]
    }
   ],
   "source": [
    "import time\n",
    "import numpy as np\n",
    "\n",
    "# iterables\n",
    "n_test = 5\n",
    "runs2 = []\n",
    "\n",
    "for _ in range(n_test):\n",
    "\n",
    "    # Keep track of starting time\n",
    "    start = time.time()\n",
    "\n",
    "    # Run Kruskal's Algorithm\n",
    "    MST, MST_weight = KruskalsAlgorithm(A, n, max_weight)\n",
    "\n",
    "    # Record the finish time and calculate the total runtime\n",
    "    runs2.append(time.time() - start)\n",
    "\n",
    "print(f\"Kruskal's algorithm with path compression took on average {np.mean(runs2)} seconds to run.\")"
   ]
  },
  {
   "cell_type": "markdown",
   "id": "31a7afce",
   "metadata": {},
   "source": [
    "Time to compare the runtime of Kruskal's with and without BucketSort on graphs of increasing size."
   ]
  },
  {
   "cell_type": "code",
   "execution_count": null,
   "id": "31e51d93",
   "metadata": {},
   "outputs": [],
   "source": [
    "# Define graph parameters\n",
    "n = 40000\n",
    "max_weight = 999\n",
    "\n",
    "# Generate connected graph\n",
    "A = generate_connected_graph(n, n, max_weight)"
   ]
  },
  {
   "cell_type": "code",
   "execution_count": null,
   "id": "825a77b7",
   "metadata": {},
   "outputs": [
    {
     "name": "stdout",
     "output_type": "stream",
     "text": [
      "Kruskal's algorithm with QuickSort took on average 0.3355547428131104 seconds to run.\n"
     ]
    }
   ],
   "source": [
    "# iterables\n",
    "n_test = 5\n",
    "runs = []\n",
    "\n",
    "for _ in range(n_test):\n",
    "\n",
    "    # Keep track of starting time\n",
    "    start = time.time()\n",
    "\n",
    "    # Run Kruskal's Algorithm with optional argument Bucket ss set to False\n",
    "    MST, MST_weight = KruskalsAlgorithm(A, n, max_weight, Bucket = False)\n",
    "\n",
    "    # Record the finish time and calculate the total runtime\n",
    "    runs.append(time.time() - start)\n",
    "\n",
    "print(f\"Kruskal's algorithm with QuickSort took on average {np.mean(runs)} seconds to run.\")"
   ]
  },
  {
   "cell_type": "code",
   "execution_count": 55,
   "id": "1f25541d",
   "metadata": {},
   "outputs": [
    {
     "name": "stdout",
     "output_type": "stream",
     "text": [
      "Kruskal's algorithm with BucketSort took on average 0.031026458740234374 seconds to run.\n"
     ]
    }
   ],
   "source": [
    "# iterables\n",
    "n_test = 5\n",
    "runs = []\n",
    "\n",
    "for _ in range(n_test):\n",
    "\n",
    "    # Keep track of starting time\n",
    "    start = time.time()\n",
    "\n",
    "    # Run Kruskal's Algorithm with BucketSort\n",
    "    MST, MST_weight = KruskalsAlgorithm(A, n, max_weight, Bucket = True)\n",
    "\n",
    "    # Record the finish time and calculate the total runtime\n",
    "    runs.append(time.time() - start)\n",
    "\n",
    "print(f\"Kruskal's algorithm with BucketSort took on average {np.mean(runs)} seconds to run.\")"
   ]
  }
 ],
 "metadata": {
  "kernelspec": {
   "display_name": "base",
   "language": "python",
   "name": "python3"
  },
  "language_info": {
   "codemirror_mode": {
    "name": "ipython",
    "version": 3
   },
   "file_extension": ".py",
   "mimetype": "text/x-python",
   "name": "python",
   "nbconvert_exporter": "python",
   "pygments_lexer": "ipython3",
   "version": "3.12.7"
  }
 },
 "nbformat": 4,
 "nbformat_minor": 5
}
