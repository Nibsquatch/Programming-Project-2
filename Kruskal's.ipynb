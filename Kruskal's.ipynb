{
 "cells": [
  {
   "cell_type": "markdown",
   "id": "b8e38659",
   "metadata": {},
   "source": [
    "# Define a Function to Create A Connected Graph with Different Levels of Connectivity"
   ]
  },
  {
   "cell_type": "code",
   "execution_count": 11,
   "id": "79960a99",
   "metadata": {
    "ExecuteTime": {
     "end_time": "2025-05-07T00:43:49.357519Z",
     "start_time": "2025-05-07T00:43:49.345143Z"
    }
   },
   "outputs": [],
   "source": [
    "import random\n",
    "\n",
    "def generate_connected_graph(n, extra_edges, max_weight):\n",
    "    \"\"\"\n",
    "    Generate a connected undirected graph with n nodes.\n",
    "\n",
    "    Parameters:\n",
    "        n           : number of vertices (int)\n",
    "        extra_edges : number of additional random edges (int)\n",
    "        max_weight  : maximum weight for any edge (int)\n",
    "\n",
    "    Returns:\n",
    "        List of edges in (weight, u, v) format\n",
    "    \"\"\"\n",
    "    edges = []\n",
    "    connected = set([0])\n",
    "\n",
    "    # Ensure connectivity by building a spanning tree\n",
    "    for i in range(1, n):\n",
    "        u = i\n",
    "        v = random.choice(list(connected))\n",
    "        weight = random.randint(1, max_weight)\n",
    "        edge = (weight, min(u, v), max(u, v))\n",
    "        edges.append(edge)\n",
    "        connected.add(u)\n",
    "\n",
    "    # Track existing edges for duplicate checking\n",
    "    existing_edges = set()\n",
    "    for _, u, v in edges:\n",
    "        edge_pair = (min(u, v), max(u, v))\n",
    "        existing_edges.add(edge_pair)\n",
    "\n",
    "    # Add extra edges\n",
    "    added_edges = 0\n",
    "    while added_edges < extra_edges:\n",
    "        u, v = random.sample(range(n), 2)\n",
    "        edge_pair = (min(u, v), max(u, v))\n",
    "\n",
    "        if edge_pair in existing_edges:\n",
    "            continue\n",
    "\n",
    "        weight = random.randint(1, max_weight)\n",
    "        edge = (weight, u, v)\n",
    "        edges.append(edge)\n",
    "        existing_edges.add(edge_pair)\n",
    "        added_edges += 1\n",
    "\n",
    "    return edges\n"
   ]
  },
  {
   "cell_type": "markdown",
   "id": "b3591093",
   "metadata": {},
   "source": [
    "# Kruskal's Algorithm Implementation"
   ]
  },
  {
   "cell_type": "code",
   "execution_count": 12,
   "id": "39ba1f0fe6101094",
   "metadata": {
    "ExecuteTime": {
     "end_time": "2025-05-07T00:43:53.138358Z",
     "start_time": "2025-05-07T00:43:53.078293Z"
    }
   },
   "outputs": [],
   "source": [
    "def KruskalsAlgorithm(edges, n, compress = True):\n",
    "    \"\"\"\n",
    "    Implements Kruskal's algorithm to find the Minimum Spanning Tree.\n",
    "    \n",
    "    Parameters:\n",
    "        edges: List of edges in {(u, v): weight} format\n",
    "        n: Number of vertices in the graph\n",
    "    \n",
    "    Returns:\n",
    "        mst_edges: List of edges in the Minimum Spanning Tree\n",
    "    \"\"\"\n",
    "    parent = list(range(n))\n",
    "    rank = [0] * n\n",
    "    \n",
    "    # Find set of vertex with compression if specified\n",
    "    def find(x):\n",
    "        if compress:\n",
    "            if parent[x] != x:\n",
    "                parent[x] = find(parent[x])\n",
    "            return parent[x]\n",
    "        else:\n",
    "            if parent[x] != x:\n",
    "                return find(parent[x])\n",
    "            return x\n",
    "\n",
    "    \n",
    "    # Union sets by rank\n",
    "    def union(x, y):\n",
    "        root_x = find(x)\n",
    "        root_y = find(y)\n",
    "        \n",
    "        if root_x == root_y:\n",
    "            return\n",
    "        \n",
    "        if rank[root_x] < rank[root_y]:\n",
    "            parent[root_x] = root_y\n",
    "        else:\n",
    "            parent[root_y] = root_x\n",
    "            if rank[root_x] == rank[root_y]:\n",
    "                rank[root_x] += 1\n",
    "    \n",
    "    mst_edges = []\n",
    "    mst_weight = 0\n",
    "    \n",
    "    for weight, u, v in edges:\n",
    "        if find(u) != find(v):  # If including this edge doesn't form a cycle\n",
    "            union(u, v)  # Include it in the MST\n",
    "            mst_edges.append({(u, v): weight})\n",
    "            mst_weight += weight\n",
    "            \n",
    "            # MST will have n-1 edges\n",
    "            if len(mst_edges) == n - 1:\n",
    "                break\n",
    "    \n",
    "    return mst_edges, mst_weight"
   ]
  },
  {
   "cell_type": "markdown",
   "id": "19b172ab",
   "metadata": {},
   "source": [
    "# Experimentation"
   ]
  },
  {
   "cell_type": "markdown",
   "id": "0a8ee8d7",
   "metadata": {},
   "source": [
    "First, let's test the basic functionality of our algorithm on a graph with $n = 5$ and a $m$ that is $\\Theta(n)$ as a proof of concept."
   ]
  },
  {
   "cell_type": "code",
   "execution_count": 20,
   "id": "83ef35ab",
   "metadata": {},
   "outputs": [
    {
     "name": "stdout",
     "output_type": "stream",
     "text": [
      "Pre-Sorted Edges of Graph: [(908, 0, 1), (362, 1, 2), (552, 0, 3), (90, 3, 4), (626, 3, 1), (930, 2, 0), (644, 2, 4), (183, 4, 1), (459, 2, 3)]\n",
      "Sorted Edges of Graph: [(90, 3, 4), (183, 4, 1), (362, 1, 2), (459, 2, 3), (552, 0, 3), (626, 3, 1), (644, 2, 4), (908, 0, 1), (930, 2, 0)]\n"
     ]
    }
   ],
   "source": [
    "from BucketSort import BucketSort\n",
    "import random\n",
    "\n",
    "# Define graph parameters\n",
    "n = 5\n",
    "max_weight = 999\n",
    "\n",
    "A = generate_connected_graph(n, n, 999)\n",
    "print(f\"Pre-Sorted Edges of Graph: {A}\")\n",
    "\n",
    "# sort A using our BuckeSort Algorithm\n",
    "BucketSort(A, max_weight)\n",
    "print(f\"Sorted Edges of Graph: {A}\")\n"
   ]
  },
  {
   "cell_type": "markdown",
   "id": "648995e0",
   "metadata": {},
   "source": [
    "Between these two steps it is clear that our BucketSort is functioning properly, and has sorted the edges in increasing order of edge weight. Let's continue on to the Kruskal's implementation."
   ]
  },
  {
   "cell_type": "code",
   "execution_count": 22,
   "id": "3f778f19",
   "metadata": {},
   "outputs": [
    {
     "name": "stdout",
     "output_type": "stream",
     "text": [
      "MST contains 4 edges with total weight: 1187\n",
      "Edge 1: {(3, 4): 90}\n",
      "Edge 2: {(4, 1): 183}\n",
      "Edge 3: {(1, 2): 362}\n",
      "Edge 4: {(0, 3): 552}\n"
     ]
    }
   ],
   "source": [
    "# Run Kruskal's Algorithm\n",
    "MST, MST_weight = KruskalsAlgorithm(A, n)\n",
    "\n",
    "print(f\"MST contains {len(MST)} edges with total weight: {MST_weight}\")\n",
    "for i in range(len(MST)):\n",
    "    print(f\"Edge {i+1}: {MST[i]}\")"
   ]
  },
  {
   "cell_type": "markdown",
   "id": "09260bbf",
   "metadata": {},
   "source": [
    "From this simplified implementation, we can see that each vertex has been reached and that minimum number of edges required to reach each vertex ($n - 1$) has ben maintained. Thus it seems as if our algorithm is working properly. Time to move on to more complex experiments."
   ]
  }
 ],
 "metadata": {
  "kernelspec": {
   "display_name": "base",
   "language": "python",
   "name": "python3"
  },
  "language_info": {
   "codemirror_mode": {
    "name": "ipython",
    "version": 3
   },
   "file_extension": ".py",
   "mimetype": "text/x-python",
   "name": "python",
   "nbconvert_exporter": "python",
   "pygments_lexer": "ipython3",
   "version": "3.12.7"
  }
 },
 "nbformat": 4,
 "nbformat_minor": 5
}
